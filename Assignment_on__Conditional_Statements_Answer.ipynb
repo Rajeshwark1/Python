{
  "nbformat": 4,
  "nbformat_minor": 0,
  "metadata": {
    "colab": {
      "provenance": []
    },
    "kernelspec": {
      "name": "python3",
      "display_name": "Python 3"
    },
    "language_info": {
      "name": "python"
    }
  },
  "cells": [
    {
      "cell_type": "markdown",
      "source": [
        "Rajeshwar Kushwaha"
      ],
      "metadata": {
        "id": "Vllw-iIwyOXa"
      }
    },
    {
      "cell_type": "markdown",
      "source": [
        "Take three numbers 'x', 'y' and 'z' as input from the user and check which number is greater\n"
      ],
      "metadata": {
        "id": "AcR_27Hh5QTe"
      }
    },
    {
      "cell_type": "code",
      "source": [
        "n1=int(input(\"Enter x value\"))\n",
        "n2=int(input(\"Enter y value\"))\n",
        "n3=int(input(\"Enter z value\"))\n",
        "\n",
        "if n1>n2 and n1>n3:\n",
        "  print(\"x is greater than y and z\")\n",
        "\n",
        "elif n2>n1 and n2>n3:\n",
        "  print(\"y is greater than x and z\")\n",
        "\n",
        "else:\n",
        "  print(\"z is greater than x and y\")"
      ],
      "metadata": {
        "id": "ZqmjTxbD5QG4",
        "colab": {
          "base_uri": "https://localhost:8080/"
        },
        "outputId": "78a8dfe6-6275-4604-ed8b-8fa07de126b5"
      },
      "execution_count": null,
      "outputs": [
        {
          "output_type": "stream",
          "name": "stdout",
          "text": [
            "Enter x value10\n",
            "Enter y value12\n",
            "Enter z value14\n",
            "z is greater than x and y\n"
          ]
        }
      ]
    },
    {
      "cell_type": "markdown",
      "source": [
        "Take an alphabet as input from the user and check if the alphabet is a vowel, consonant or an exception\n",
        "\n",
        "\n",
        "Vowel - 'a','e','i','o','u'\n",
        "\n",
        "Exception - 'h', 'y'\n",
        "\n",
        "Consonant - rest other alphabets"
      ],
      "metadata": {
        "id": "QgkCsQlx4c5Y"
      }
    },
    {
      "cell_type": "code",
      "source": [
        "A1=input(\"Enter a charater\")\n",
        "\n",
        "if A1=='a' or A1=='e' or A1=='i' or A1=='o' or A1=='u':\n",
        "  print(\"Vowel\")\n",
        "\n",
        "elif A1=='h' or A1=='y':\n",
        "  print(\"Exception\")\n",
        "\n",
        "else:\n",
        "  print(\"Consonant\")"
      ],
      "metadata": {
        "id": "mTRgMPbt4dTk",
        "colab": {
          "base_uri": "https://localhost:8080/"
        },
        "outputId": "46a05965-51eb-4f0c-b495-4408b1e05a14"
      },
      "execution_count": 3,
      "outputs": [
        {
          "output_type": "stream",
          "name": "stdout",
          "text": [
            "Enter a charatery\n",
            "Exception\n"
          ]
        }
      ]
    },
    {
      "cell_type": "markdown",
      "source": [
        "Write a program to check whether a number given by a user is divisible by 2 and 3 both"
      ],
      "metadata": {
        "id": "5TqcIsuG4N4x"
      }
    },
    {
      "cell_type": "code",
      "source": [
        "num=int(input(\"Enter a number\"))\n",
        "\n",
        "if num%2==0 and num%3==0:\n",
        "  print(\"Divisible\")\n",
        "\n",
        "else:\n",
        "  print(\"Not divisible\")"
      ],
      "metadata": {
        "id": "1TobEmuY4NkT",
        "colab": {
          "base_uri": "https://localhost:8080/"
        },
        "outputId": "7e24ab67-4c0f-4967-d860-b9092f6fae80"
      },
      "execution_count": 7,
      "outputs": [
        {
          "output_type": "stream",
          "name": "stdout",
          "text": [
            "Enter a number15\n",
            "Not divisible\n"
          ]
        }
      ]
    },
    {
      "cell_type": "markdown",
      "source": [
        "Write a program to accept the cost price  of a bike as input and display the road tax to be paid according to the following crieteria :-\n",
        "\n",
        "Cost price - 100000 Tax - 15%\n",
        "\n",
        "Cost price - between 50000 to 100000 Tax - 10%\n",
        "\n",
        "Cost price - less than 50000 Tax - 5%"
      ],
      "metadata": {
        "id": "Vl0l7eM93o-k"
      }
    },
    {
      "cell_type": "code",
      "source": [
        "cp=int(input(\"Enter cost price\"))\n",
        "\n",
        "if cp>=100000:\n",
        "  print(\"Tax is 15%\")\n",
        "\n",
        "elif cp>=50000 and cp<100000:\n",
        "  print(\"Tax is 10%\")\n",
        "\n",
        "else:\n",
        "  print(\"Tax is 5%\")"
      ],
      "metadata": {
        "id": "TdHw-M2Z3lkL",
        "colab": {
          "base_uri": "https://localhost:8080/"
        },
        "outputId": "c2b845d6-2a43-4485-bc7a-e0109833fb42"
      },
      "execution_count": 11,
      "outputs": [
        {
          "output_type": "stream",
          "name": "stdout",
          "text": [
            "Enter cost price40000\n",
            "Tax is 5%\n"
          ]
        }
      ]
    },
    {
      "cell_type": "markdown",
      "source": [
        "Write a program to calculate the electricity bill by accepting the number of units consumed by the user as input. Use the following price chart for reference :-\n",
        "\n",
        "Price of first 100 units - no charge\n",
        "\n",
        "Price of next 100 units - Rs 5/- per unit\n",
        "\n",
        "After 200 units - Rs 10/- per unit"
      ],
      "metadata": {
        "id": "4qwB-dyV2vdv"
      }
    },
    {
      "cell_type": "code",
      "execution_count": 16,
      "metadata": {
        "id": "9CRK7oBa2rjP",
        "colab": {
          "base_uri": "https://localhost:8080/"
        },
        "outputId": "401523dc-4583-4090-decd-9a26c606b3b1"
      },
      "outputs": [
        {
          "output_type": "stream",
          "name": "stdout",
          "text": [
            "Enter number of units200\n",
            "Rs 5 per unit\n"
          ]
        }
      ],
      "source": [
        "un=int(input(\"Enter number of units\"))\n",
        "\n",
        "if un<=100:\n",
        "  print(\"No charge\")\n",
        "\n",
        "elif un>100 and un<=200:\n",
        "  print(\"Rs 5 per unit\")\n",
        "\n",
        "else:\n",
        "  print(\"Rs 10 per unit\")"
      ]
    },
    {
      "cell_type": "code",
      "source": [],
      "metadata": {
        "id": "IJqbmyYTx_3S"
      },
      "execution_count": null,
      "outputs": []
    }
  ]
}