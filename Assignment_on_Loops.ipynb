{
  "nbformat": 4,
  "nbformat_minor": 0,
  "metadata": {
    "colab": {
      "provenance": []
    },
    "kernelspec": {
      "name": "python3",
      "display_name": "Python 3"
    },
    "language_info": {
      "name": "python"
    }
  },
  "cells": [
    {
      "cell_type": "markdown",
      "source": [
        "Write a program which accepts month's name as input and display the number of days in the month as output"
      ],
      "metadata": {
        "id": "MdAkQQ_Y4wwG"
      }
    },
    {
      "cell_type": "code",
      "source": [
        "month_name=input(\"Enter the month name: \")\n",
        "if month_name==\"February\":\n",
        "        print(\"28 or 29 days\")\n",
        "elif month_name==\"April\" or month_name==\"June\" or month_name==\"September\" or month_name==\"November\":\n",
        "        print(\"30 days\")\n",
        "else:\n",
        "        print(\"31 days\")\n"
      ],
      "metadata": {
        "id": "5CHcmXp1CKEa",
        "colab": {
          "base_uri": "https://localhost:8080/"
        },
        "outputId": "6afcb583-8b3d-4a16-a7f7-f3358c5d4d85"
      },
      "execution_count": 9,
      "outputs": [
        {
          "output_type": "stream",
          "name": "stdout",
          "text": [
            "Enter the month name: december\n",
            "31 days\n"
          ]
        }
      ]
    },
    {
      "cell_type": "markdown",
      "source": [
        "Take any word as input from the user and count the number of vowels in the word"
      ],
      "metadata": {
        "id": "Q8cCBC198J6M"
      }
    },
    {
      "cell_type": "code",
      "source": [
        "word = input(\"Enter a word: \")\n",
        "vowels = \"aeiouAEIOU\"\n",
        "vowel_count = 0\n",
        "for i in word:\n",
        "    if i in vowels:\n",
        "        vowel_count += 1\n",
        "print(\"Number of vowels:\", vowel_count)"
      ],
      "metadata": {
        "id": "fCmmgoZfCKga",
        "colab": {
          "base_uri": "https://localhost:8080/"
        },
        "outputId": "17ed80fe-775e-40ba-a20d-660a3e2a9f34"
      },
      "execution_count": 11,
      "outputs": [
        {
          "output_type": "stream",
          "name": "stdout",
          "text": [
            "Enter a word: pratiksha\n",
            "Number of vowels: 3\n"
          ]
        }
      ]
    },
    {
      "cell_type": "markdown",
      "source": [
        "Write a program to separate even and odd numbers in two distinct lists from a list of numbers of your choice"
      ],
      "metadata": {
        "id": "1ugWwVXd49OI"
      }
    },
    {
      "cell_type": "code",
      "source": [
        "list1=[1,2,3,4,5,6,7,8,9,10]\n",
        "even_list=[]\n",
        "odd_list=[]\n",
        "for i in list1:\n",
        "    if i%2==0:\n",
        "        even_list.append(i)\n",
        "    else:\n",
        "        odd_list.append(i)\n",
        "\n",
        "print(\"Even list:\",even_list)\n",
        "print(\"Odd list:\",odd_list)"
      ],
      "metadata": {
        "id": "p0MPJzU6CK6f",
        "colab": {
          "base_uri": "https://localhost:8080/"
        },
        "outputId": "7508a030-a2f9-451b-a29c-512217fef292"
      },
      "execution_count": 12,
      "outputs": [
        {
          "output_type": "stream",
          "name": "stdout",
          "text": [
            "Even list: [2, 4, 6, 8, 10]\n",
            "Odd list: [1, 3, 5, 7, 9]\n"
          ]
        }
      ]
    },
    {
      "cell_type": "markdown",
      "source": [
        "Write a program that appends datatype of elements from a list to a separate list"
      ],
      "metadata": {
        "id": "uaqnGrhs49Mf"
      }
    },
    {
      "cell_type": "code",
      "source": [
        "list1=[1,\"Hello\",3.14,True,[1,2,3],(1,3,4)]\n",
        "list2=[]\n",
        "for i in list1:\n",
        "    list2.append(type(i))\n",
        "print(list2)"
      ],
      "metadata": {
        "id": "ypNro7WSCLX7",
        "colab": {
          "base_uri": "https://localhost:8080/"
        },
        "outputId": "8708ca02-9ce8-4208-c554-be048af4b594"
      },
      "execution_count": 16,
      "outputs": [
        {
          "output_type": "stream",
          "name": "stdout",
          "text": [
            "[<class 'int'>, <class 'str'>, <class 'float'>, <class 'bool'>, <class 'list'>, <class 'tuple'>]\n"
          ]
        }
      ]
    },
    {
      "cell_type": "markdown",
      "source": [
        "Write a program to display only those numbers from a list that satisfies the following conditions:\n",
        "\n",
        "1. The number must be divisible by 7\n",
        "\n",
        "2. If the number is 140 then skip it and move to the next number in the list\n",
        "\n",
        "3. If the number in the list is greater than 630 then stop the loop"
      ],
      "metadata": {
        "id": "ddMu0Pj1643Y"
      }
    },
    {
      "cell_type": "code",
      "source": [
        "list1=[7, 14, 49, 140, 210, 420, 560, 630, 700]\n",
        "for i in list1:\n",
        "    if i%7==0:\n",
        "        print(i)\n",
        "    elif i==140:\n",
        "        continue\n",
        "    elif i>630:\n",
        "        break\n"
      ],
      "metadata": {
        "id": "230Qc9UHTK5-",
        "colab": {
          "base_uri": "https://localhost:8080/"
        },
        "outputId": "ba1a6dd2-36af-4405-ecef-a796342b05ec"
      },
      "execution_count": 20,
      "outputs": [
        {
          "output_type": "stream",
          "name": "stdout",
          "text": [
            "7\n",
            "14\n",
            "49\n",
            "140\n",
            "210\n",
            "420\n",
            "560\n",
            "630\n",
            "700\n"
          ]
        }
      ]
    }
  ]
}