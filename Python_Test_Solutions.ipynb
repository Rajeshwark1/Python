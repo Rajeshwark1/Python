{
  "nbformat": 4,
  "nbformat_minor": 0,
  "metadata": {
    "colab": {
      "provenance": []
    },
    "kernelspec": {
      "name": "python3",
      "display_name": "Python 3"
    },
    "language_info": {
      "name": "python"
    }
  },
  "cells": [
    {
      "cell_type": "markdown",
      "source": [
        "Rajeshwar Batch no 101"
      ],
      "metadata": {
        "id": "dGgCE5GZl9cj"
      }
    },
    {
      "cell_type": "code",
      "source": [
        "#Question 01\n",
        "x=2\n",
        "y=y\n",
        "for i in range(x,y):\n",
        "  if i==3:\n",
        "    continue\n",
        "  elif i==4:\n",
        "    break\n",
        "  else:\n",
        "    print(i)"
      ],
      "metadata": {
        "id": "OOQ_ZUd-RN2-",
        "colab": {
          "base_uri": "https://localhost:8080/"
        },
        "outputId": "b2498cf0-350f-4454-f7b8-dad83b52f162"
      },
      "execution_count": 9,
      "outputs": [
        {
          "output_type": "stream",
          "name": "stdout",
          "text": [
            "2\n"
          ]
        }
      ]
    },
    {
      "cell_type": "code",
      "source": [
        "#Question 02\n",
        "x=4\n",
        "y=10\n",
        "while x>y:\n",
        "  x-=1\n",
        "  y+=1\n",
        "\n",
        "else:\n",
        "  y-=1\n",
        "\n",
        "  print(y)"
      ],
      "metadata": {
        "colab": {
          "base_uri": "https://localhost:8080/"
        },
        "id": "k17JQUKSQ6qI",
        "outputId": "927eba42-41a4-4f7a-84d2-3777722579b2"
      },
      "execution_count": 13,
      "outputs": [
        {
          "output_type": "stream",
          "name": "stdout",
          "text": [
            "9\n"
          ]
        }
      ]
    },
    {
      "cell_type": "code",
      "source": [
        "#Question 03\n",
        "x=3\n",
        "y=6\n",
        "if x<y:\n",
        "  if y>10:\n",
        "    z=x+y\n",
        "\n",
        "  else:z=x-y\n",
        "\n",
        "else:z=x*y\n",
        "\n",
        "print(z)"
      ],
      "metadata": {
        "colab": {
          "base_uri": "https://localhost:8080/"
        },
        "id": "HUAW_fV4SbsJ",
        "outputId": "3f02565a-c226-450f-9549-6d18ba72587a"
      },
      "execution_count": 15,
      "outputs": [
        {
          "output_type": "stream",
          "name": "stdout",
          "text": [
            "-3\n"
          ]
        }
      ]
    },
    {
      "cell_type": "code",
      "source": [
        "#Question 04\n",
        "x=5\n",
        "y=3\n",
        "if x<y:\n",
        "  z=x+y\n",
        "\n",
        "elif x>y:\n",
        "  z=x-y\n",
        "\n",
        "else:\n",
        "  z=x*y\n",
        "\n",
        "print(z)\n",
        ""
      ],
      "metadata": {
        "colab": {
          "base_uri": "https://localhost:8080/"
        },
        "id": "y74di5EETzvN",
        "outputId": "83da351d-75fa-4a53-dff4-9f8b86243605"
      },
      "execution_count": 25,
      "outputs": [
        {
          "output_type": "stream",
          "name": "stdout",
          "text": [
            "2\n"
          ]
        }
      ]
    },
    {
      "cell_type": "code",
      "source": [
        "#Question 05\n",
        "x=4\n",
        "y=8\n",
        "for i in range(x,y):\n",
        "  if i%2==0:\n",
        "    continue\n",
        "  else:\n",
        "    print(i)"
      ],
      "metadata": {
        "colab": {
          "base_uri": "https://localhost:8080/"
        },
        "id": "zUtP2NETUaUo",
        "outputId": "c9292f5a-bc2d-4dad-e9d9-f86bf60b5a83"
      },
      "execution_count": 18,
      "outputs": [
        {
          "output_type": "stream",
          "name": "stdout",
          "text": [
            "5\n",
            "7\n"
          ]
        }
      ]
    },
    {
      "cell_type": "code",
      "source": [
        "#Question 06\n",
        "x=5\n",
        "y=3\n",
        "if x>y:\n",
        "  z=x+y\n",
        "\n",
        "elif x<y:\n",
        "  z=x-y\n",
        "\n",
        "else:\n",
        "  z=x*y\n",
        "\n",
        "print(z)"
      ],
      "metadata": {
        "colab": {
          "base_uri": "https://localhost:8080/"
        },
        "id": "cu6kX6LGV5c1",
        "outputId": "2d760899-9b1d-4f8e-90da-bab9e90e23de"
      },
      "execution_count": 27,
      "outputs": [
        {
          "output_type": "stream",
          "name": "stdout",
          "text": [
            "8\n"
          ]
        }
      ]
    },
    {
      "cell_type": "code",
      "source": [
        "#Question 07\n",
        "my_list=[1,2,3,4,5]\n",
        "my_list.extend([6,7])\n",
        "\n",
        "print(my_list)"
      ],
      "metadata": {
        "colab": {
          "base_uri": "https://localhost:8080/"
        },
        "id": "dSgONPF6WZrd",
        "outputId": "fc9379f3-7b6a-4d0b-b024-3583c813f568"
      },
      "execution_count": 28,
      "outputs": [
        {
          "output_type": "stream",
          "name": "stdout",
          "text": [
            "[1, 2, 3, 4, 5, 6, 7]\n"
          ]
        }
      ]
    },
    {
      "cell_type": "code",
      "source": [
        "#Question 08\n",
        "my_tuple=(1,2,3)\n",
        "new_tuple=my_tuple+(4,5,6)\n",
        "\n",
        "print(new_tuple)"
      ],
      "metadata": {
        "colab": {
          "base_uri": "https://localhost:8080/"
        },
        "id": "r1L8p8kIXqBo",
        "outputId": "17320c10-6ec9-41d8-d81c-c6a6e82abcdf"
      },
      "execution_count": 29,
      "outputs": [
        {
          "output_type": "stream",
          "name": "stdout",
          "text": [
            "(1, 2, 3, 4, 5, 6)\n"
          ]
        }
      ]
    },
    {
      "cell_type": "code",
      "source": [
        "#Question 09\n",
        "my_list=[1,2,3,4,5]\n",
        "new_list=sorted(my_list,reverse=True)\n",
        "\n",
        "print(new_list)"
      ],
      "metadata": {
        "colab": {
          "base_uri": "https://localhost:8080/"
        },
        "id": "uBObXJT1X9Wv",
        "outputId": "55fd8eb0-3d0b-4ec2-b029-f7298708ade4"
      },
      "execution_count": 31,
      "outputs": [
        {
          "output_type": "stream",
          "name": "stdout",
          "text": [
            "[5, 4, 3, 2, 1]\n"
          ]
        }
      ]
    },
    {
      "cell_type": "code",
      "source": [
        "#Question 10\n",
        "my_list=[1,2,3,4,5]\n",
        "new_list=my_list[1:3]\n",
        "\n",
        "print(new_list)"
      ],
      "metadata": {
        "colab": {
          "base_uri": "https://localhost:8080/"
        },
        "id": "cGBN651LYR2m",
        "outputId": "6ae2e51b-8e99-4703-8ae1-729125d11342"
      },
      "execution_count": 32,
      "outputs": [
        {
          "output_type": "stream",
          "name": "stdout",
          "text": [
            "[2, 3]\n"
          ]
        }
      ]
    },
    {
      "cell_type": "code",
      "source": [
        "#Question 11\n",
        "my_tuple=(1,2,3,4,5)\n",
        "my_tuple[1]=10\n",
        "\n",
        "print(my_tuple)"
      ],
      "metadata": {
        "colab": {
          "base_uri": "https://localhost:8080/",
          "height": 201
        },
        "id": "qqc6UErqYo-N",
        "outputId": "cbb9b9ac-97b1-468f-df60-010a2362413d"
      },
      "execution_count": 33,
      "outputs": [
        {
          "output_type": "error",
          "ename": "TypeError",
          "evalue": "'tuple' object does not support item assignment",
          "traceback": [
            "\u001b[0;31m---------------------------------------------------------------------------\u001b[0m",
            "\u001b[0;31mTypeError\u001b[0m                                 Traceback (most recent call last)",
            "\u001b[0;32m<ipython-input-33-7d41b40fff23>\u001b[0m in \u001b[0;36m<cell line: 2>\u001b[0;34m()\u001b[0m\n\u001b[1;32m      1\u001b[0m \u001b[0mmy_tuple\u001b[0m\u001b[0;34m=\u001b[0m\u001b[0;34m(\u001b[0m\u001b[0;36m1\u001b[0m\u001b[0;34m,\u001b[0m\u001b[0;36m2\u001b[0m\u001b[0;34m,\u001b[0m\u001b[0;36m3\u001b[0m\u001b[0;34m,\u001b[0m\u001b[0;36m4\u001b[0m\u001b[0;34m,\u001b[0m\u001b[0;36m5\u001b[0m\u001b[0;34m)\u001b[0m\u001b[0;34m\u001b[0m\u001b[0;34m\u001b[0m\u001b[0m\n\u001b[0;32m----> 2\u001b[0;31m \u001b[0mmy_tuple\u001b[0m\u001b[0;34m[\u001b[0m\u001b[0;36m1\u001b[0m\u001b[0;34m]\u001b[0m\u001b[0;34m=\u001b[0m\u001b[0;36m10\u001b[0m\u001b[0;34m\u001b[0m\u001b[0;34m\u001b[0m\u001b[0m\n\u001b[0m\u001b[1;32m      3\u001b[0m \u001b[0;34m\u001b[0m\u001b[0m\n\u001b[1;32m      4\u001b[0m \u001b[0mprint\u001b[0m\u001b[0;34m(\u001b[0m\u001b[0mmy_tuple\u001b[0m\u001b[0;34m)\u001b[0m\u001b[0;34m\u001b[0m\u001b[0;34m\u001b[0m\u001b[0m\n",
            "\u001b[0;31mTypeError\u001b[0m: 'tuple' object does not support item assignment"
          ]
        }
      ]
    },
    {
      "cell_type": "code",
      "source": [
        "#Question 12\n",
        "my_tuple=(1,2,3,4,5)\n",
        "repeated_tuple=my_tuple*3\n",
        "\n",
        "print(repeated_tuple)"
      ],
      "metadata": {
        "colab": {
          "base_uri": "https://localhost:8080/"
        },
        "id": "OigjK0wVY67g",
        "outputId": "7cbaedcd-fdfe-4b59-e3d7-a055ceb462f2"
      },
      "execution_count": 34,
      "outputs": [
        {
          "output_type": "stream",
          "name": "stdout",
          "text": [
            "(1, 2, 3, 4, 5, 1, 2, 3, 4, 5, 1, 2, 3, 4, 5)\n"
          ]
        }
      ]
    },
    {
      "cell_type": "code",
      "source": [
        "#Question 13\n",
        "my_tuple=(1,2,3)\n",
        "new_tuple=my_tuple+(4,)\n",
        "\n",
        "print(new_tuple)"
      ],
      "metadata": {
        "colab": {
          "base_uri": "https://localhost:8080/"
        },
        "id": "9r3s_NFhZSnL",
        "outputId": "4e085308-9a42-4714-e682-c0b621890592"
      },
      "execution_count": 35,
      "outputs": [
        {
          "output_type": "stream",
          "name": "stdout",
          "text": [
            "(1, 2, 3, 4)\n"
          ]
        }
      ]
    },
    {
      "cell_type": "code",
      "source": [
        "#Question 14\n",
        "my_tuple=(1,2,3,4,5)\n",
        "sum_of_tuple=sum(my_tuple)\n",
        "\n",
        "print(sum_of_tuple)"
      ],
      "metadata": {
        "colab": {
          "base_uri": "https://localhost:8080/"
        },
        "id": "TeUZrjXkZq9x",
        "outputId": "a790ada6-b7ad-4b02-8487-b08d3828e345"
      },
      "execution_count": 37,
      "outputs": [
        {
          "output_type": "stream",
          "name": "stdout",
          "text": [
            "15\n"
          ]
        }
      ]
    },
    {
      "cell_type": "code",
      "source": [
        "#Question 15\n",
        "my_list=[1,2,3,4,5]\n",
        "del my_list[2]\n",
        "\n",
        "print(my_list)"
      ],
      "metadata": {
        "colab": {
          "base_uri": "https://localhost:8080/"
        },
        "id": "aWkWlkWcZyXh",
        "outputId": "2c0e33fb-f7e6-49dd-f9f6-d3791bad334e"
      },
      "execution_count": 39,
      "outputs": [
        {
          "output_type": "stream",
          "name": "stdout",
          "text": [
            "[1, 2, 4, 5]\n"
          ]
        }
      ]
    },
    {
      "cell_type": "code",
      "source": [
        "#Question 16\n",
        "my_list=[1,2,3,4,5]\n",
        "my_list.remove(3)\n",
        "\n",
        "print(my_list)"
      ],
      "metadata": {
        "colab": {
          "base_uri": "https://localhost:8080/"
        },
        "id": "4Km09Mq2aTwJ",
        "outputId": "42e8ab70-966a-40f2-abe8-09571638b23b"
      },
      "execution_count": 40,
      "outputs": [
        {
          "output_type": "stream",
          "name": "stdout",
          "text": [
            "[1, 2, 4, 5]\n"
          ]
        }
      ]
    },
    {
      "cell_type": "code",
      "source": [
        "#Question 17\n",
        "my_list=[1,2,3,4,5]\n",
        "my_list.insert(2,10)\n",
        "\n",
        "print(my_list)"
      ],
      "metadata": {
        "colab": {
          "base_uri": "https://localhost:8080/"
        },
        "id": "qrFhbFosajBP",
        "outputId": "a88d9808-6fb8-4456-dcee-765c740ca64d"
      },
      "execution_count": 41,
      "outputs": [
        {
          "output_type": "stream",
          "name": "stdout",
          "text": [
            "[1, 2, 10, 3, 4, 5]\n"
          ]
        }
      ]
    },
    {
      "cell_type": "code",
      "source": [
        "#Question 18\n",
        "my_tuple=(1,2,3,4,5)\n",
        "new_tuple=my_tuple[-3:-1]\n",
        "\n",
        "print(new_tuple)"
      ],
      "metadata": {
        "colab": {
          "base_uri": "https://localhost:8080/"
        },
        "id": "cL_jAx7Law6d",
        "outputId": "9f6e20fc-a8c8-4c88-9a38-d9f1400fe2bf"
      },
      "execution_count": 42,
      "outputs": [
        {
          "output_type": "stream",
          "name": "stdout",
          "text": [
            "(3, 4)\n"
          ]
        }
      ]
    },
    {
      "cell_type": "code",
      "source": [
        "#Question 19\n",
        "my_tuple=(1,2,3,4,5)\n",
        "new_tuple=my_tuple[::-1]\n",
        "\n",
        "print(new_tuple)"
      ],
      "metadata": {
        "colab": {
          "base_uri": "https://localhost:8080/"
        },
        "id": "oLdQgCWWbJV1",
        "outputId": "e4fa76a0-6e75-4d3d-cd9d-a18a048ee2a2"
      },
      "execution_count": 43,
      "outputs": [
        {
          "output_type": "stream",
          "name": "stdout",
          "text": [
            "(5, 4, 3, 2, 1)\n"
          ]
        }
      ]
    },
    {
      "cell_type": "code",
      "source": [
        "#Question 20\n",
        "my_list=[1,2,3,4,5]\n",
        "repeated_list=my_list*2\n",
        "\n",
        "print(repeated_list)"
      ],
      "metadata": {
        "colab": {
          "base_uri": "https://localhost:8080/"
        },
        "id": "ZuGyb8xUbbuM",
        "outputId": "29e736eb-95d4-447d-836e-4ad54fc64bc0"
      },
      "execution_count": 46,
      "outputs": [
        {
          "output_type": "stream",
          "name": "stdout",
          "text": [
            "[1, 2, 3, 4, 5, 1, 2, 3, 4, 5]\n"
          ]
        }
      ]
    },
    {
      "cell_type": "code",
      "source": [
        "#Question 21\n",
        "x=3\n",
        "y=6\n",
        "while x<y:\n",
        "  if y%2==0:\n",
        "    x+=y\n",
        "  else:\n",
        "    x-=y\n",
        "  print(x)"
      ],
      "metadata": {
        "colab": {
          "base_uri": "https://localhost:8080/"
        },
        "id": "1eetLe1GbrWb",
        "outputId": "ae7afd2e-fdf0-48c1-d1b7-376c4e5260c5"
      },
      "execution_count": 47,
      "outputs": [
        {
          "output_type": "stream",
          "name": "stdout",
          "text": [
            "9\n"
          ]
        }
      ]
    },
    {
      "cell_type": "code",
      "source": [
        "#Question 22\n",
        "def count_vowels(word):\n",
        "  vowels=['a','e','i','o','u']\n",
        "  count=0\n",
        "  for letter in word:\n",
        "    if letter.lower() in vowels:count+=1\n",
        "    return count\n",
        "    word=\"Hello World\"\n",
        "    result=count_vowels(word)\n",
        "    print(result)"
      ],
      "metadata": {
        "id": "ZKB66iwScco5"
      },
      "execution_count": 74,
      "outputs": []
    },
    {
      "cell_type": "code",
      "source": [
        "#Question 23\n",
        "def calculate_average(nums):\n",
        "  return sum(nums)/len(nums)\n",
        "  my_nums=[1,2,3,4,5]\n",
        "  result=calculate_average(my_nums)\n",
        "  print(result)"
      ],
      "metadata": {
        "id": "X5Z_GSZ2dnO-"
      },
      "execution_count": 70,
      "outputs": []
    },
    {
      "cell_type": "code",
      "source": [
        "#Question 24\n",
        "def find_average(nums):\n",
        "  positive_nums=[num for num in nums if num>0]\n",
        "  return sum(positive_nums)/len(positive_nums)\n",
        "  my_nums=[1,2,3,4,5]\n",
        "  result=calculate_average(my_nums)\n",
        "  print(result)"
      ],
      "metadata": {
        "id": "X4a5d3mLhj86"
      },
      "execution_count": 79,
      "outputs": []
    },
    {
      "cell_type": "code",
      "source": [
        "#Question 25\n",
        "def modify_list(lst):\n",
        "  lst.append(4)\n",
        "  my_list=[1,2,3]\n",
        "  modify_list(my_list)\n",
        "  print(my_list)"
      ],
      "metadata": {
        "id": "s0dWSA-riCao"
      },
      "execution_count": 82,
      "outputs": []
    },
    {
      "cell_type": "code",
      "source": [
        "#Question 26\n",
        "def remove_duplicates(string):\n",
        "  unique_char=[]\n",
        "  for char in string:\n",
        "    if char not in unique_char:\n",
        "      unique_char.append(char)\n",
        "      return''.join(unique_char)\n",
        "      my_string=\"abracadabra\"\n",
        "      result=remove_duplicates(my_string)\n",
        "      print(result)"
      ],
      "metadata": {
        "id": "JiDhBESXikEX"
      },
      "execution_count": 83,
      "outputs": []
    },
    {
      "cell_type": "code",
      "source": [
        "#Question 27\n",
        "x=4\n",
        "result=x>5\n",
        "print(result)"
      ],
      "metadata": {
        "colab": {
          "base_uri": "https://localhost:8080/"
        },
        "id": "bUJcnU5liuL9",
        "outputId": "44d4a5f8-4701-4a79-ed4b-41a236dc8e6f"
      },
      "execution_count": 84,
      "outputs": [
        {
          "output_type": "stream",
          "name": "stdout",
          "text": [
            "False\n"
          ]
        }
      ]
    },
    {
      "cell_type": "code",
      "source": [
        "#Question 28\n",
        "x=\"Python\"\n",
        "result=x[1:5:2]\n",
        "print(result)"
      ],
      "metadata": {
        "colab": {
          "base_uri": "https://localhost:8080/"
        },
        "id": "eHV8Idi3j4kS",
        "outputId": "b3ea41b7-8bd8-4cf9-aa9b-5cf4ae861ae5"
      },
      "execution_count": 85,
      "outputs": [
        {
          "output_type": "stream",
          "name": "stdout",
          "text": [
            "yh\n"
          ]
        }
      ]
    },
    {
      "cell_type": "code",
      "source": [
        "#Question 29\n",
        "x=True\n",
        "y=False\n",
        "result=x or y\n",
        "print(result)"
      ],
      "metadata": {
        "colab": {
          "base_uri": "https://localhost:8080/"
        },
        "id": "kqI7xLQUkK8Z",
        "outputId": "57afb768-94d0-4ea2-c99e-b8054940dafc"
      },
      "execution_count": 86,
      "outputs": [
        {
          "output_type": "stream",
          "name": "stdout",
          "text": [
            "True\n"
          ]
        }
      ]
    },
    {
      "cell_type": "code",
      "source": [
        "#Question 30\n",
        "x=5\n",
        "y=\"2\"\n",
        "result=str(x)+y\n",
        "print(result)"
      ],
      "metadata": {
        "colab": {
          "base_uri": "https://localhost:8080/"
        },
        "id": "El6Fsi19ka2Y",
        "outputId": "f223be0c-3786-457a-f765-e304c9353534"
      },
      "execution_count": 87,
      "outputs": [
        {
          "output_type": "stream",
          "name": "stdout",
          "text": [
            "52\n"
          ]
        }
      ]
    },
    {
      "cell_type": "code",
      "source": [],
      "metadata": {
        "id": "cn8dDx3skrev"
      },
      "execution_count": null,
      "outputs": []
    }
  ]
}