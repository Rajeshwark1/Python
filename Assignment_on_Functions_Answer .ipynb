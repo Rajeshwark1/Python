{
  "nbformat": 4,
  "nbformat_minor": 0,
  "metadata": {
    "colab": {
      "provenance": []
    },
    "kernelspec": {
      "name": "python3",
      "display_name": "Python 3"
    },
    "language_info": {
      "name": "python"
    }
  },
  "cells": [
    {
      "cell_type": "markdown",
      "source": [
        "Rajeshwar Batch no 101"
      ],
      "metadata": {
        "id": "QfQBGy3cMU_g"
      }
    },
    {
      "cell_type": "markdown",
      "source": [
        "Define a function that accepts a number and returns whether the number is even or odd."
      ],
      "metadata": {
        "id": "SA0zwy1HTiK-"
      }
    },
    {
      "cell_type": "code",
      "source": [
        "def compute(num):\n",
        "   if num%2==0:\n",
        "       print(\"Even\")\n",
        "\n",
        "   else:\n",
        "       print(\"Odd\")"
      ],
      "metadata": {
        "id": "QYp14SD5p2cw"
      },
      "execution_count": null,
      "outputs": []
    },
    {
      "cell_type": "code",
      "source": [
        "compute(5)"
      ],
      "metadata": {
        "colab": {
          "base_uri": "https://localhost:8080/"
        },
        "id": "3D76ixpPixv5",
        "outputId": "a56cb502-a4e7-4c19-8f49-a9b755a86f8e"
      },
      "execution_count": null,
      "outputs": [
        {
          "output_type": "stream",
          "name": "stdout",
          "text": [
            "Odd\n"
          ]
        }
      ]
    },
    {
      "cell_type": "markdown",
      "source": [
        "Define a function to create and print a list where the values are square of numbers between 1 and 30 (both included)."
      ],
      "metadata": {
        "id": "eFB9qeBSTxRd"
      }
    },
    {
      "cell_type": "code",
      "source": [
        "def square_numbers():\n",
        "    squares = [x ** 2 for x in range(1, 31)]\n",
        "    print(squares)\n",
        "\n",
        "square_numbers()"
      ],
      "metadata": {
        "id": "xoZ8le6R3zmW",
        "colab": {
          "base_uri": "https://localhost:8080/"
        },
        "outputId": "6c58b297-488d-43d5-d28c-35df43902deb"
      },
      "execution_count": null,
      "outputs": [
        {
          "output_type": "stream",
          "name": "stdout",
          "text": [
            "[1, 4, 9, 16, 25, 36, 49, 64, 81, 100, 121, 144, 169, 196, 225, 256, 289, 324, 361, 400, 441, 484, 529, 576, 625, 676, 729, 784, 841, 900]\n"
          ]
        }
      ]
    },
    {
      "cell_type": "markdown",
      "source": [
        "Define a function, shut_down, that takes one parameter. Then, if the shut_down function receives a value equal to \"yes\", it should print \"Shutting down\". Alternatively, if vallue is equal to \"no\", then the function should print \"Shutdown aborted\". Finally, if shut_down gets anything other than those inputs, the function should print \"Sorry\"."
      ],
      "metadata": {
        "id": "WPKsEW0dUIZF"
      }
    },
    {
      "cell_type": "code",
      "source": [
        "def shut_down(value):\n",
        "    if value == \"yes\":\n",
        "        print(\"Shutting down\")\n",
        "    elif value == \"no\":\n",
        "        print(\"Shutdown aborted\")\n",
        "    else:\n",
        "        print(\"Sorry\")"
      ],
      "metadata": {
        "id": "BErvgTSlp4BA"
      },
      "execution_count": null,
      "outputs": []
    },
    {
      "cell_type": "code",
      "source": [
        "shut_down(\"yes\")"
      ],
      "metadata": {
        "colab": {
          "base_uri": "https://localhost:8080/"
        },
        "id": "TkuxNwWVoC1a",
        "outputId": "9520673a-383c-45b7-eaa4-9b8e813d9243"
      },
      "execution_count": null,
      "outputs": [
        {
          "output_type": "stream",
          "name": "stdout",
          "text": [
            "Shutting down\n"
          ]
        }
      ]
    },
    {
      "cell_type": "markdown",
      "source": [
        "\n",
        "\n",
        "Define a function called \"by_three\" that takes a parameter called number. If that number is divisible by 3, \"by_three\" should print the cube of the number. Otherwise, by_three should print False."
      ],
      "metadata": {
        "id": "KosfqTW8Ur_1"
      }
    },
    {
      "cell_type": "code",
      "source": [
        "def by_three(number):\n",
        "    if number % 3 == 0:\n",
        "        print(number ** 3)\n",
        "\n",
        "    else:\n",
        "        print(False)"
      ],
      "metadata": {
        "id": "ma_rcX6sp4nW"
      },
      "execution_count": null,
      "outputs": []
    },
    {
      "cell_type": "code",
      "source": [
        "by_three(6)"
      ],
      "metadata": {
        "colab": {
          "base_uri": "https://localhost:8080/"
        },
        "id": "nF4eCB6VpbjC",
        "outputId": "08e1f65f-b8c5-4cc5-e1b2-ea1abbe59ecf"
      },
      "execution_count": null,
      "outputs": [
        {
          "output_type": "stream",
          "name": "stdout",
          "text": [
            "216\n"
          ]
        }
      ]
    },
    {
      "cell_type": "markdown",
      "source": [
        "Define a function that takes a list and prints a new list with no duplicate elements given in the first list."
      ],
      "metadata": {
        "id": "EWbQXeU5WpdZ"
      }
    },
    {
      "cell_type": "code",
      "source": [
        "def remove_duplicates(numbers):\n",
        "    unique_numbers = []\n",
        "    for num in numbers:\n",
        "        if num not in unique_numbers:\n",
        "            unique_numbers.append(num)\n",
        "    return unique_numbers"
      ],
      "metadata": {
        "id": "BAtCg5oY33BO"
      },
      "execution_count": null,
      "outputs": []
    },
    {
      "cell_type": "code",
      "source": [
        "remove_duplicates([1,2,3,4,5.5,6])"
      ],
      "metadata": {
        "colab": {
          "base_uri": "https://localhost:8080/"
        },
        "id": "8YOSS3e2qj2J",
        "outputId": "91caf723-3efc-472f-d64f-1b3c341f9523"
      },
      "execution_count": null,
      "outputs": [
        {
          "output_type": "execute_result",
          "data": {
            "text/plain": [
              "[1, 2, 3, 4, 5.5, 6]"
            ]
          },
          "metadata": {},
          "execution_count": 27
        }
      ]
    },
    {
      "cell_type": "code",
      "source": [],
      "metadata": {
        "id": "FId72A6pq17G"
      },
      "execution_count": null,
      "outputs": []
    }
  ]
}